{
 "cells": [
  {
   "cell_type": "code",
   "execution_count": 4,
   "metadata": {
    "ExecuteTime": {
     "end_time": "2020-09-18T06:37:33.239443Z",
     "start_time": "2020-09-18T06:37:29.648657Z"
    }
   },
   "outputs": [],
   "source": [
    "from selenium import webdriver\n",
    "import pandas as pd\n",
    "from bs4 import BeautifulSoup\n",
    "from typing import List\n",
    "driver = webdriver.Chrome('./chromedriver.exe')"
   ]
  },
  {
   "cell_type": "markdown",
   "metadata": {},
   "source": [
    "# 페이지 크롤링 함수\n",
    "---"
   ]
  },
  {
   "cell_type": "code",
   "execution_count": 27,
   "metadata": {
    "ExecuteTime": {
     "end_time": "2020-09-18T06:45:37.014667Z",
     "start_time": "2020-09-18T06:45:37.007670Z"
    }
   },
   "outputs": [],
   "source": [
    "\n",
    "\n",
    "def crawling():\n",
    "    html = driver.page_source\n",
    "\n",
    "    soup = BeautifulSoup(html, 'lxml')\n",
    "\n",
    "    content = soup.select('table.table_develop')\n",
    "    ex = content[0].text.replace('\\n', \" \")\n",
    "    ex = ex.split(' ')\n",
    "    ex = ex[25:]\n",
    "    date = []\n",
    "    for s in ex:\n",
    "        if s != '':\n",
    "            date.append(s)\n",
    "    return date"
   ]
  },
  {
   "cell_type": "code",
   "execution_count": null,
   "metadata": {},
   "outputs": [],
   "source": [
    "# 12달이므로 12칸의 리스트 생성\n",
    "def make_list():\n",
    "    List = []\n",
    "    for i in range(13):\n",
    "        List.append([])\n",
    "    return List"
   ]
  },
  {
   "cell_type": "markdown",
   "metadata": {},
   "source": [
    "# 평균온도\n",
    "---"
   ]
  },
  {
   "cell_type": "code",
   "execution_count": 28,
   "metadata": {
    "ExecuteTime": {
     "end_time": "2020-09-18T06:45:38.138973Z",
     "start_time": "2020-09-18T06:45:38.128979Z"
    }
   },
   "outputs": [],
   "source": [
    "\n",
    "def get_avg_temp(year: str)->List:\n",
    "    driver.get(\n",
    "        'https://www.weather.go.kr/weather/climate/past_table.jsp?stn=159&yy={}&obs=07&x=9&y=18'\n",
    "        .format(year))\n",
    "    avg_temp = make_list()\n",
    "    date = crawling()\n",
    "    cnt = 0\n",
    "    for num in date:\n",
    "        avg_temp[cnt % 13].append(num)\n",
    "        cnt += 1\n",
    "\n",
    "    avg_temp = avg_temp[1:]\n",
    "\n",
    "    avg_temp = pd.DataFrame(avg_temp).T\n",
    "    avg_temp.drop(31, axis=0, inplace=True)\n",
    "    avg_temp_final = []\n",
    "    for i in range(12):\n",
    "        for j in range(31):\n",
    "            avg_temp_final.append(avg_temp.iloc[j, i])\n",
    "    return avg_temp_final"
   ]
  },
  {
   "cell_type": "markdown",
   "metadata": {},
   "source": [
    "# 평균 강수량 \n",
    "---"
   ]
  },
  {
   "cell_type": "code",
   "execution_count": 33,
   "metadata": {
    "ExecuteTime": {
     "end_time": "2020-09-18T06:50:19.227497Z",
     "start_time": "2020-09-18T06:50:19.219511Z"
    }
   },
   "outputs": [],
   "source": [
    "def get_avg_rain(year: str) -> List:\n",
    "    driver.get(\n",
    "        'https://www.weather.go.kr/weather/climate/past_table.jsp?stn=159&yy={}&obs=21&x=19&y=4'\n",
    "        .format(year))\n",
    "    date = crawling()\n",
    "    avg_rain = make_list()\n",
    "    cnt = 0\n",
    "    for num in date:\n",
    "\n",
    "        avg_rain[cnt % 13].append(num)\n",
    "        cnt += 1\n",
    "\n",
    "    avg_rain = avg_rain[1:]\n",
    "\n",
    "    avg_rain = pd.DataFrame(avg_rain).T\n",
    "    avg_rain.drop(31, axis=0, inplace=True)\n",
    "    avg_rain_final = []\n",
    "\n",
    "    for i in range(12):\n",
    "        for j in range(31):\n",
    "            if avg_rain.iloc[j][i] == '\\xa0':\n",
    "                avg_rain_final.append(0)\n",
    "            else:\n",
    "                avg_rain_final.append(avg_rain.iloc[j, i])\n",
    "    return avg_rain_final"
   ]
  },
  {
   "cell_type": "markdown",
   "metadata": {},
   "source": [
    "# 일조시간\n",
    "---"
   ]
  },
  {
   "cell_type": "code",
   "execution_count": 38,
   "metadata": {
    "ExecuteTime": {
     "end_time": "2020-09-18T06:53:19.140363Z",
     "start_time": "2020-09-18T06:53:19.132368Z"
    }
   },
   "outputs": [],
   "source": [
    "def get_avg_sunny(year: str) -> List:\n",
    "    driver.get(\n",
    "        'https://www.weather.go.kr/weather/climate/past_table.jsp?stn=159&yy={}&obs=35&x=18&y=6'\n",
    "        .format(year))\n",
    "    date = crawling()\n",
    "\n",
    "    avg_sunny = make_list()\n",
    "    cnt = 0\n",
    "    for num in date:\n",
    "\n",
    "        avg_sunny[cnt % 13].append(num)\n",
    "        cnt += 1\n",
    "\n",
    "    avg_sunny = avg_sunny[1:]\n",
    "\n",
    "    avg_sunny = pd.DataFrame(avg_sunny).T\n",
    "    avg_sunny.drop(31, axis=0, inplace=True)\n",
    "    avg_sunny_final = []\n",
    "\n",
    "    for i in range(12):\n",
    "        for j in range(31):\n",
    "            avg_sunny_final.append(avg_sunny.iloc[j, i])\n",
    "    return avg_sunny_final"
   ]
  },
  {
   "cell_type": "markdown",
   "metadata": {},
   "source": [
    "# 평균 운량\n",
    "---"
   ]
  },
  {
   "cell_type": "code",
   "execution_count": 40,
   "metadata": {
    "ExecuteTime": {
     "end_time": "2020-09-18T06:54:31.090020Z",
     "start_time": "2020-09-18T06:54:31.082034Z"
    }
   },
   "outputs": [],
   "source": [
    "def get_avg_cloud(year: int) -> List:\n",
    "    driver.get(\n",
    "        'https://www.weather.go.kr/weather/climate/past_table.jsp?stn=159&yy={}&obs=59&x=24&y=8'\n",
    "        .format(year))\n",
    "\n",
    "    date = crawling()\n",
    "    avg_cloud = make_list()\n",
    "    cnt = 0\n",
    "    for num in date:\n",
    "\n",
    "        avg_cloud[cnt % 13].append(num)\n",
    "        cnt += 1\n",
    "\n",
    "    avg_cloud = avg_cloud[1:]\n",
    "\n",
    "    avg_cloud = pd.DataFrame(avg_cloud).T\n",
    "    avg_cloud.drop(31, axis=0, inplace=True)\n",
    "    avg_cloud_final = []\n",
    "\n",
    "    for i in range(12):\n",
    "        for j in range(31):\n",
    "            avg_cloud_final.append(avg_cloud.iloc[j, i])\n",
    "    return avg_cloud_final"
   ]
  },
  {
   "cell_type": "markdown",
   "metadata": {},
   "source": [
    "# 각년도별 데이터 수집후 결합\n",
    "--- \n",
    "2015-2019 년도의 데이터를 각각 수집한후 하나의 df 로 결합시킨다."
   ]
  },
  {
   "cell_type": "code",
   "execution_count": 72,
   "metadata": {
    "ExecuteTime": {
     "end_time": "2020-09-18T07:23:35.777702Z",
     "start_time": "2020-09-18T07:22:46.865847Z"
    }
   },
   "outputs": [],
   "source": [
    "year = ['2015','2016','2017','2018','2019']\n",
    "columns = ['평균기온','강수량','일조시간','운량']\n",
    "df=pd.DataFrame()\n",
    "for y in year:\n",
    "    globals()['df_{}'.format(y)] = [get_avg_temp(y),get_avg_rain(y),get_avg_sunny(y),get_avg_cloud(y)]\n",
    "    for _ in globals()['df_{}'.format(y)]:\n",
    "        # 데이터 중간에 이상치가 있어서 제거해주는작업.\n",
    "        for i in [340,278,185,123,61,60,59]:\n",
    "            del _[i]\n",
    "    globals()['df_{}'.format(y)] = pd.DataFrame(globals()['df_{}'.format(y)]).T\n",
    "    globals()['df_{}'.format(y)].columns = columns"
   ]
  },
  {
   "cell_type": "code",
   "execution_count": 75,
   "metadata": {
    "ExecuteTime": {
     "end_time": "2020-09-18T07:24:20.467150Z",
     "start_time": "2020-09-18T07:24:20.438169Z"
    }
   },
   "outputs": [
    {
     "name": "stdout",
     "output_type": "stream",
     "text": [
      "<class 'pandas.core.frame.DataFrame'>\n",
      "RangeIndex: 1825 entries, 0 to 1824\n",
      "Data columns (total 4 columns):\n",
      " #   Column  Non-Null Count  Dtype \n",
      "---  ------  --------------  ----- \n",
      " 0   평균기온    1825 non-null   object\n",
      " 1   강수량     1825 non-null   object\n",
      " 2   일조시간    1825 non-null   object\n",
      " 3   운량      1825 non-null   object\n",
      "dtypes: object(4)\n",
      "memory usage: 57.2+ KB\n",
      "None\n"
     ]
    },
    {
     "data": {
      "text/html": [
       "<div>\n",
       "<style scoped>\n",
       "    .dataframe tbody tr th:only-of-type {\n",
       "        vertical-align: middle;\n",
       "    }\n",
       "\n",
       "    .dataframe tbody tr th {\n",
       "        vertical-align: top;\n",
       "    }\n",
       "\n",
       "    .dataframe thead th {\n",
       "        text-align: right;\n",
       "    }\n",
       "</style>\n",
       "<table border=\"1\" class=\"dataframe\">\n",
       "  <thead>\n",
       "    <tr style=\"text-align: right;\">\n",
       "      <th></th>\n",
       "      <th>평균기온</th>\n",
       "      <th>강수량</th>\n",
       "      <th>일조시간</th>\n",
       "      <th>운량</th>\n",
       "    </tr>\n",
       "  </thead>\n",
       "  <tbody>\n",
       "    <tr>\n",
       "      <th>0</th>\n",
       "      <td>-2.2</td>\n",
       "      <td>0</td>\n",
       "      <td>9.2</td>\n",
       "      <td>0.4</td>\n",
       "    </tr>\n",
       "    <tr>\n",
       "      <th>1</th>\n",
       "      <td>-1.0</td>\n",
       "      <td>0</td>\n",
       "      <td>9.2</td>\n",
       "      <td>0.1</td>\n",
       "    </tr>\n",
       "    <tr>\n",
       "      <th>2</th>\n",
       "      <td>1.8</td>\n",
       "      <td>0</td>\n",
       "      <td>9.4</td>\n",
       "      <td>2.8</td>\n",
       "    </tr>\n",
       "    <tr>\n",
       "      <th>3</th>\n",
       "      <td>7.0</td>\n",
       "      <td>0</td>\n",
       "      <td>8.8</td>\n",
       "      <td>1.1</td>\n",
       "    </tr>\n",
       "    <tr>\n",
       "      <th>4</th>\n",
       "      <td>9.3</td>\n",
       "      <td>0.5</td>\n",
       "      <td>5.1</td>\n",
       "      <td>6.5</td>\n",
       "    </tr>\n",
       "  </tbody>\n",
       "</table>\n",
       "</div>"
      ],
      "text/plain": [
       "   평균기온  강수량 일조시간   운량\n",
       "0  -2.2    0  9.2  0.4\n",
       "1  -1.0    0  9.2  0.1\n",
       "2   1.8    0  9.4  2.8\n",
       "3   7.0    0  8.8  1.1\n",
       "4   9.3  0.5  5.1  6.5"
      ]
     },
     "execution_count": 75,
     "metadata": {},
     "output_type": "execute_result"
    }
   ],
   "source": [
    "#5개 데이터 프레임을 합쳐준다.\n",
    "\n",
    "df = df_2015.append(df_2016,ignore_index=True)\n",
    "df = df.append(df_2017,ignore_index=True)\n",
    "df = df.append(df_2018,ignore_index=True)\n",
    "df = df.append(df_2019,ignore_index=True)\n",
    "print(df.info())\n",
    "df.head()"
   ]
  },
  {
   "cell_type": "code",
   "execution_count": 76,
   "metadata": {
    "ExecuteTime": {
     "end_time": "2020-09-18T07:25:35.257884Z",
     "start_time": "2020-09-18T07:25:35.199919Z"
    }
   },
   "outputs": [
    {
     "data": {
      "text/html": [
       "<div>\n",
       "<style scoped>\n",
       "    .dataframe tbody tr th:only-of-type {\n",
       "        vertical-align: middle;\n",
       "    }\n",
       "\n",
       "    .dataframe tbody tr th {\n",
       "        vertical-align: top;\n",
       "    }\n",
       "\n",
       "    .dataframe thead th {\n",
       "        text-align: right;\n",
       "    }\n",
       "</style>\n",
       "<table border=\"1\" class=\"dataframe\">\n",
       "  <thead>\n",
       "    <tr style=\"text-align: right;\">\n",
       "      <th></th>\n",
       "      <th>날짜</th>\n",
       "      <th>평균기온</th>\n",
       "      <th>강수량</th>\n",
       "      <th>일조시간</th>\n",
       "      <th>운량</th>\n",
       "    </tr>\n",
       "  </thead>\n",
       "  <tbody>\n",
       "    <tr>\n",
       "      <th>0</th>\n",
       "      <td>2015-01-01</td>\n",
       "      <td>-2.2</td>\n",
       "      <td>0</td>\n",
       "      <td>9.2</td>\n",
       "      <td>0.4</td>\n",
       "    </tr>\n",
       "    <tr>\n",
       "      <th>1</th>\n",
       "      <td>2015-01-02</td>\n",
       "      <td>-1.0</td>\n",
       "      <td>0</td>\n",
       "      <td>9.2</td>\n",
       "      <td>0.1</td>\n",
       "    </tr>\n",
       "    <tr>\n",
       "      <th>2</th>\n",
       "      <td>2015-01-03</td>\n",
       "      <td>1.8</td>\n",
       "      <td>0</td>\n",
       "      <td>9.4</td>\n",
       "      <td>2.8</td>\n",
       "    </tr>\n",
       "    <tr>\n",
       "      <th>3</th>\n",
       "      <td>2015-01-04</td>\n",
       "      <td>7.0</td>\n",
       "      <td>0</td>\n",
       "      <td>8.8</td>\n",
       "      <td>1.1</td>\n",
       "    </tr>\n",
       "    <tr>\n",
       "      <th>4</th>\n",
       "      <td>2015-01-05</td>\n",
       "      <td>9.3</td>\n",
       "      <td>0.5</td>\n",
       "      <td>5.1</td>\n",
       "      <td>6.5</td>\n",
       "    </tr>\n",
       "  </tbody>\n",
       "</table>\n",
       "</div>"
      ],
      "text/plain": [
       "           날짜  평균기온  강수량 일조시간   운량\n",
       "0  2015-01-01  -2.2    0  9.2  0.4\n",
       "1  2015-01-02  -1.0    0  9.2  0.1\n",
       "2  2015-01-03   1.8    0  9.4  2.8\n",
       "3  2015-01-04   7.0    0  8.8  1.1\n",
       "4  2015-01-05   9.3  0.5  5.1  6.5"
      ]
     },
     "execution_count": 76,
     "metadata": {},
     "output_type": "execute_result"
    }
   ],
   "source": [
    "# 데이터 프레임의 인덱스를 연-월-일 로바꿔준다.\n",
    "date = pd.DataFrame({'date':pd.date_range('2015-01-01', periods=365*5, freq='1D')})\n",
    "date= date['date'].astype(str).tolist()\n",
    "df['날짜']=date\n",
    "df.columns=['평균기온','강수량','일조시간','운량','날짜']\n",
    "df=df[['날짜','평균기온','강수량','일조시간','운량']]\n",
    "df.head()"
   ]
  },
  {
   "cell_type": "markdown",
   "metadata": {},
   "source": [
    "# 배추 가격 데이터와 날씨 데이터 결합 및 저장\n",
    "---"
   ]
  },
  {
   "cell_type": "code",
   "execution_count": 79,
   "metadata": {
    "ExecuteTime": {
     "end_time": "2020-09-18T07:29:14.996300Z",
     "start_time": "2020-09-18T07:29:14.981309Z"
    }
   },
   "outputs": [
    {
     "data": {
      "text/html": [
       "<div>\n",
       "<style scoped>\n",
       "    .dataframe tbody tr th:only-of-type {\n",
       "        vertical-align: middle;\n",
       "    }\n",
       "\n",
       "    .dataframe tbody tr th {\n",
       "        vertical-align: top;\n",
       "    }\n",
       "\n",
       "    .dataframe thead th {\n",
       "        text-align: right;\n",
       "    }\n",
       "</style>\n",
       "<table border=\"1\" class=\"dataframe\">\n",
       "  <thead>\n",
       "    <tr style=\"text-align: right;\">\n",
       "      <th></th>\n",
       "      <th>날짜</th>\n",
       "      <th>배추가격평균</th>\n",
       "    </tr>\n",
       "  </thead>\n",
       "  <tbody>\n",
       "    <tr>\n",
       "      <th>1</th>\n",
       "      <td>2015-01-02</td>\n",
       "      <td>4,000</td>\n",
       "    </tr>\n",
       "    <tr>\n",
       "      <th>2</th>\n",
       "      <td>2015-01-05</td>\n",
       "      <td>4,000</td>\n",
       "    </tr>\n",
       "    <tr>\n",
       "      <th>3</th>\n",
       "      <td>2015-01-06</td>\n",
       "      <td>4,000</td>\n",
       "    </tr>\n",
       "    <tr>\n",
       "      <th>4</th>\n",
       "      <td>2015-01-07</td>\n",
       "      <td>4,000</td>\n",
       "    </tr>\n",
       "    <tr>\n",
       "      <th>5</th>\n",
       "      <td>2015-01-08</td>\n",
       "      <td>4,000</td>\n",
       "    </tr>\n",
       "  </tbody>\n",
       "</table>\n",
       "</div>"
      ],
      "text/plain": [
       "           날짜 배추가격평균\n",
       "1  2015-01-02  4,000\n",
       "2  2015-01-05  4,000\n",
       "3  2015-01-06  4,000\n",
       "4  2015-01-07  4,000\n",
       "5  2015-01-08  4,000"
      ]
     },
     "execution_count": 79,
     "metadata": {},
     "output_type": "execute_result"
    }
   ],
   "source": [
    "# 저장된 배추 가겨 데이터를 불러온다.\n",
    "price= pd.read_csv('배추가격데이터.csv',index_col=0)\n",
    "price.head()"
   ]
  },
  {
   "cell_type": "code",
   "execution_count": 81,
   "metadata": {
    "ExecuteTime": {
     "end_time": "2020-09-18T07:30:54.445016Z",
     "start_time": "2020-09-18T07:30:54.419025Z"
    }
   },
   "outputs": [
    {
     "name": "stdout",
     "output_type": "stream",
     "text": [
      "<class 'pandas.core.frame.DataFrame'>\n",
      "Int64Index: 1226 entries, 0 to 1225\n",
      "Data columns (total 6 columns):\n",
      " #   Column  Non-Null Count  Dtype \n",
      "---  ------  --------------  ----- \n",
      " 0   날짜      1226 non-null   object\n",
      " 1   평균기온    1226 non-null   object\n",
      " 2   강수량     1226 non-null   object\n",
      " 3   일조시간    1226 non-null   object\n",
      " 4   운량      1226 non-null   object\n",
      " 5   배추가격평균  1226 non-null   object\n",
      "dtypes: object(6)\n",
      "memory usage: 67.0+ KB\n",
      "None\n"
     ]
    },
    {
     "data": {
      "text/html": [
       "<div>\n",
       "<style scoped>\n",
       "    .dataframe tbody tr th:only-of-type {\n",
       "        vertical-align: middle;\n",
       "    }\n",
       "\n",
       "    .dataframe tbody tr th {\n",
       "        vertical-align: top;\n",
       "    }\n",
       "\n",
       "    .dataframe thead th {\n",
       "        text-align: right;\n",
       "    }\n",
       "</style>\n",
       "<table border=\"1\" class=\"dataframe\">\n",
       "  <thead>\n",
       "    <tr style=\"text-align: right;\">\n",
       "      <th></th>\n",
       "      <th>날짜</th>\n",
       "      <th>평균기온</th>\n",
       "      <th>강수량</th>\n",
       "      <th>일조시간</th>\n",
       "      <th>운량</th>\n",
       "      <th>배추가격평균</th>\n",
       "    </tr>\n",
       "  </thead>\n",
       "  <tbody>\n",
       "    <tr>\n",
       "      <th>0</th>\n",
       "      <td>2015-01-02</td>\n",
       "      <td>-1.0</td>\n",
       "      <td>0</td>\n",
       "      <td>9.2</td>\n",
       "      <td>0.1</td>\n",
       "      <td>4,000</td>\n",
       "    </tr>\n",
       "    <tr>\n",
       "      <th>1</th>\n",
       "      <td>2015-01-05</td>\n",
       "      <td>9.3</td>\n",
       "      <td>0.5</td>\n",
       "      <td>5.1</td>\n",
       "      <td>6.5</td>\n",
       "      <td>4,000</td>\n",
       "    </tr>\n",
       "    <tr>\n",
       "      <th>2</th>\n",
       "      <td>2015-01-06</td>\n",
       "      <td>7.6</td>\n",
       "      <td>26.0</td>\n",
       "      <td>8.6</td>\n",
       "      <td>3.1</td>\n",
       "      <td>4,000</td>\n",
       "    </tr>\n",
       "    <tr>\n",
       "      <th>3</th>\n",
       "      <td>2015-01-07</td>\n",
       "      <td>1.4</td>\n",
       "      <td>0</td>\n",
       "      <td>9.1</td>\n",
       "      <td>2.5</td>\n",
       "      <td>4,000</td>\n",
       "    </tr>\n",
       "    <tr>\n",
       "      <th>4</th>\n",
       "      <td>2015-01-08</td>\n",
       "      <td>0.8</td>\n",
       "      <td>0</td>\n",
       "      <td>9.4</td>\n",
       "      <td>0.0</td>\n",
       "      <td>4,000</td>\n",
       "    </tr>\n",
       "  </tbody>\n",
       "</table>\n",
       "</div>"
      ],
      "text/plain": [
       "           날짜  평균기온   강수량 일조시간   운량 배추가격평균\n",
       "0  2015-01-02  -1.0     0  9.2  0.1  4,000\n",
       "1  2015-01-05   9.3   0.5  5.1  6.5  4,000\n",
       "2  2015-01-06   7.6  26.0  8.6  3.1  4,000\n",
       "3  2015-01-07   1.4     0  9.1  2.5  4,000\n",
       "4  2015-01-08   0.8     0  9.4  0.0  4,000"
      ]
     },
     "execution_count": 81,
     "metadata": {},
     "output_type": "execute_result"
    }
   ],
   "source": [
    "# 배추가격은 평일 데이터만 존재하므로 배추가격데이터를 기준으로 날짜데이터와 결합한다.\n",
    "_=pd.merge(left=df,\n",
    "               right=배추,\n",
    "               how='inner',\n",
    "               left_on='날짜',\n",
    "               right_on='날짜')\n",
    "\n",
    "final_df= _\n",
    "print(final_df.info())\n",
    "final_df.head()\n"
   ]
  },
  {
   "cell_type": "code",
   "execution_count": null,
   "metadata": {},
   "outputs": [],
   "source": [
    "# 크롤링 및 결합 이 끝난 데이터를 저장한다.\n",
    "final_df.to_csv('final_df.csv',index=False)"
   ]
  }
 ],
 "metadata": {
  "kernelspec": {
   "display_name": "Python 3",
   "language": "python",
   "name": "python3"
  },
  "language_info": {
   "codemirror_mode": {
    "name": "ipython",
    "version": 3
   },
   "file_extension": ".py",
   "mimetype": "text/x-python",
   "name": "python",
   "nbconvert_exporter": "python",
   "pygments_lexer": "ipython3",
   "version": "3.7.6"
  },
  "toc": {
   "base_numbering": 1,
   "nav_menu": {},
   "number_sections": true,
   "sideBar": true,
   "skip_h1_title": false,
   "title_cell": "Table of Contents",
   "title_sidebar": "Contents",
   "toc_cell": false,
   "toc_position": {},
   "toc_section_display": true,
   "toc_window_display": false
  }
 },
 "nbformat": 4,
 "nbformat_minor": 4
}
