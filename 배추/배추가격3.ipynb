{
 "cells": [
  {
   "cell_type": "code",
   "execution_count": 7,
   "metadata": {
    "ExecuteTime": {
     "end_time": "2020-09-02T04:56:46.078940Z",
     "start_time": "2020-09-02T04:56:46.071946Z"
    }
   },
   "outputs": [],
   "source": [
    "from sklearn.linear_model import LinearRegression, Ridge, Lasso\n",
    "import os\n",
    "import pickle\n",
    "\n",
    "reg = pickle.load(open(os.path.join('ridge/pkl_objects',\n",
    "                             'reg.pkl'),'rb'))\n"
   ]
  },
  {
   "cell_type": "code",
   "execution_count": 9,
   "metadata": {
    "ExecuteTime": {
     "end_time": "2020-09-02T04:56:50.087276Z",
     "start_time": "2020-09-02T04:56:50.075284Z"
    }
   },
   "outputs": [
    {
     "ename": "AttributeError",
     "evalue": "'LinearRegression' object has no attribute 'names_'",
     "output_type": "error",
     "traceback": [
      "\u001b[1;31m---------------------------------------------------------------------------\u001b[0m",
      "\u001b[1;31mAttributeError\u001b[0m                            Traceback (most recent call last)",
      "\u001b[1;32m<ipython-input-9-d0b03caf9375>\u001b[0m in \u001b[0;36m<module>\u001b[1;34m\u001b[0m\n\u001b[1;32m----> 1\u001b[1;33m \u001b[0mreg\u001b[0m\u001b[1;33m.\u001b[0m\u001b[0mnames_\u001b[0m\u001b[1;33m\u001b[0m\u001b[1;33m\u001b[0m\u001b[0m\n\u001b[0m",
      "\u001b[1;31mAttributeError\u001b[0m: 'LinearRegression' object has no attribute 'names_'"
     ]
    }
   ],
   "source": [
    "reg.names_"
   ]
  },
  {
   "cell_type": "code",
   "execution_count": 10,
   "metadata": {
    "ExecuteTime": {
     "end_time": "2020-09-02T04:57:36.145274Z",
     "start_time": "2020-09-02T04:57:36.115293Z"
    }
   },
   "outputs": [
    {
     "data": {
      "text/html": [
       "<div>\n",
       "<style scoped>\n",
       "    .dataframe tbody tr th:only-of-type {\n",
       "        vertical-align: middle;\n",
       "    }\n",
       "\n",
       "    .dataframe tbody tr th {\n",
       "        vertical-align: top;\n",
       "    }\n",
       "\n",
       "    .dataframe thead th {\n",
       "        text-align: right;\n",
       "    }\n",
       "</style>\n",
       "<table border=\"1\" class=\"dataframe\">\n",
       "  <thead>\n",
       "    <tr style=\"text-align: right;\">\n",
       "      <th></th>\n",
       "      <th>평균기온</th>\n",
       "      <th>강수량</th>\n",
       "      <th>일조시간</th>\n",
       "      <th>운량</th>\n",
       "      <th>월_1</th>\n",
       "      <th>월_10</th>\n",
       "      <th>월_11</th>\n",
       "      <th>월_12</th>\n",
       "      <th>월_2</th>\n",
       "      <th>월_3</th>\n",
       "      <th>월_4</th>\n",
       "      <th>월_5</th>\n",
       "      <th>월_6</th>\n",
       "      <th>월_7</th>\n",
       "      <th>월_8</th>\n",
       "      <th>월_9</th>\n",
       "    </tr>\n",
       "  </thead>\n",
       "  <tbody>\n",
       "    <tr>\n",
       "      <th>0</th>\n",
       "      <td>0.0058</td>\n",
       "      <td>0.003325</td>\n",
       "      <td>-0.009128</td>\n",
       "      <td>-0.01198</td>\n",
       "      <td>-0.206455</td>\n",
       "      <td>-0.0678</td>\n",
       "      <td>-0.028765</td>\n",
       "      <td>-0.131178</td>\n",
       "      <td>-0.165118</td>\n",
       "      <td>-0.284887</td>\n",
       "      <td>-0.015427</td>\n",
       "      <td>0.363598</td>\n",
       "      <td>0.556001</td>\n",
       "      <td>0.106573</td>\n",
       "      <td>-0.070335</td>\n",
       "      <td>-0.056206</td>\n",
       "    </tr>\n",
       "  </tbody>\n",
       "</table>\n",
       "</div>"
      ],
      "text/plain": [
       "     평균기온       강수량      일조시간       운량       월_1    월_10      월_11      월_12  \\\n",
       "0  0.0058  0.003325 -0.009128 -0.01198 -0.206455 -0.0678 -0.028765 -0.131178   \n",
       "\n",
       "        월_2       월_3       월_4       월_5       월_6       월_7       월_8  \\\n",
       "0 -0.165118 -0.284887 -0.015427  0.363598  0.556001  0.106573 -0.070335   \n",
       "\n",
       "        월_9  \n",
       "0 -0.056206  "
      ]
     },
     "execution_count": 10,
     "metadata": {},
     "output_type": "execute_result"
    }
   ],
   "source": [
    "import pandas as pd\n",
    "reg_int= reg.intercept_\n",
    "reg_coef=list(reg.coef_)\n",
    "col=['평균기온','강수량','일조시간','운량','월_1','월_10','월_11','월_12','월_2','월_3','월_4','월_5','월_6','월_7','월_8','월_9']\n",
    "reg= pd.DataFrame(reg_coef).T\n",
    "reg.columns = col\n",
    "reg"
   ]
  },
  {
   "cell_type": "code",
   "execution_count": 11,
   "metadata": {
    "ExecuteTime": {
     "end_time": "2020-09-02T04:57:37.148447Z",
     "start_time": "2020-09-02T04:57:37.121464Z"
    }
   },
   "outputs": [
    {
     "data": {
      "text/html": [
       "<div>\n",
       "<style scoped>\n",
       "    .dataframe tbody tr th:only-of-type {\n",
       "        vertical-align: middle;\n",
       "    }\n",
       "\n",
       "    .dataframe tbody tr th {\n",
       "        vertical-align: top;\n",
       "    }\n",
       "\n",
       "    .dataframe thead th {\n",
       "        text-align: right;\n",
       "    }\n",
       "</style>\n",
       "<table border=\"1\" class=\"dataframe\">\n",
       "  <thead>\n",
       "    <tr style=\"text-align: right;\">\n",
       "      <th></th>\n",
       "      <th>평균기온</th>\n",
       "      <th>강수량</th>\n",
       "      <th>일조시간</th>\n",
       "      <th>운량</th>\n",
       "      <th>월_1</th>\n",
       "      <th>월_2</th>\n",
       "      <th>월_3</th>\n",
       "      <th>월_4</th>\n",
       "      <th>월_5</th>\n",
       "      <th>월_6</th>\n",
       "      <th>월_7</th>\n",
       "      <th>월_8</th>\n",
       "      <th>월_9</th>\n",
       "      <th>월_10</th>\n",
       "      <th>월_11</th>\n",
       "      <th>월_12</th>\n",
       "    </tr>\n",
       "  </thead>\n",
       "  <tbody>\n",
       "    <tr>\n",
       "      <th>0</th>\n",
       "      <td>0.0058</td>\n",
       "      <td>0.003325</td>\n",
       "      <td>-0.009128</td>\n",
       "      <td>-0.01198</td>\n",
       "      <td>-0.206455</td>\n",
       "      <td>-0.165118</td>\n",
       "      <td>-0.284887</td>\n",
       "      <td>-0.015427</td>\n",
       "      <td>0.363598</td>\n",
       "      <td>0.556001</td>\n",
       "      <td>0.106573</td>\n",
       "      <td>-0.070335</td>\n",
       "      <td>-0.056206</td>\n",
       "      <td>-0.0678</td>\n",
       "      <td>-0.028765</td>\n",
       "      <td>-0.131178</td>\n",
       "    </tr>\n",
       "  </tbody>\n",
       "</table>\n",
       "</div>"
      ],
      "text/plain": [
       "     평균기온       강수량      일조시간       운량       월_1       월_2       월_3  \\\n",
       "0  0.0058  0.003325 -0.009128 -0.01198 -0.206455 -0.165118 -0.284887   \n",
       "\n",
       "        월_4       월_5       월_6       월_7       월_8       월_9    월_10  \\\n",
       "0 -0.015427  0.363598  0.556001  0.106573 -0.070335 -0.056206 -0.0678   \n",
       "\n",
       "       월_11      월_12  \n",
       "0 -0.028765 -0.131178  "
      ]
     },
     "execution_count": 11,
     "metadata": {},
     "output_type": "execute_result"
    }
   ],
   "source": [
    "reg = reg[['평균기온','강수량','일조시간','운량','월_1','월_2','월_3','월_4','월_5','월_6','월_7','월_8','월_9','월_10','월_11','월_12']]\n",
    "reg"
   ]
  },
  {
   "cell_type": "code",
   "execution_count": 12,
   "metadata": {
    "ExecuteTime": {
     "end_time": "2020-09-02T04:58:53.901519Z",
     "start_time": "2020-09-02T04:58:43.117682Z"
    }
   },
   "outputs": [
    {
     "name": "stdout",
     "output_type": "stream",
     "text": [
      "평균 온도: 28\n",
      "강수량: 1\n",
      "일조시간: 5.8\n",
      "운량: 4.2\n",
      "월: 9\n"
     ]
    }
   ],
   "source": [
    "import numpy as np\n",
    "평균온도 = float(input('평균 온도: '))\n",
    "강수량 = np.log1p(float(input('강수량: ')))\n",
    "일조시간 =float(input('일조시간: '))\n",
    "운량 = float(input('운량: '))\n",
    "몇월 = int(input('월: '))\n",
    "월 = [0,0,0,0,0,0,0,0,0,0,0,0]\n",
    "월[몇월-1]=1\n",
    "\n",
    "data = [평균온도,강수량,일조시간,운량]    \n",
    "for i in 월:\n",
    "    data.append(i)"
   ]
  },
  {
   "cell_type": "code",
   "execution_count": 13,
   "metadata": {
    "ExecuteTime": {
     "end_time": "2020-09-02T04:58:55.395390Z",
     "start_time": "2020-09-02T04:58:55.382391Z"
    },
    "scrolled": true
   },
   "outputs": [
    {
     "name": "stdout",
     "output_type": "stream",
     "text": [
      "예상 배추 가격은 7687 원 입니다.\n"
     ]
    }
   ],
   "source": [
    "배추가격 = 0\n",
    "for i in range(16):\n",
    "    배추가격 += data[i] * reg.iloc[0,i]\n",
    "\n",
    "print('예상 배추 가격은',int(np.expm1(배추가격+reg_int)),'원 입니다.')"
   ]
  },
  {
   "cell_type": "code",
   "execution_count": null,
   "metadata": {},
   "outputs": [],
   "source": []
  }
 ],
 "metadata": {
  "kernelspec": {
   "display_name": "Python 3",
   "language": "python",
   "name": "python3"
  },
  "language_info": {
   "codemirror_mode": {
    "name": "ipython",
    "version": 3
   },
   "file_extension": ".py",
   "mimetype": "text/x-python",
   "name": "python",
   "nbconvert_exporter": "python",
   "pygments_lexer": "ipython3",
   "version": "3.7.6"
  },
  "toc": {
   "base_numbering": 1,
   "nav_menu": {},
   "number_sections": true,
   "sideBar": true,
   "skip_h1_title": false,
   "title_cell": "Table of Contents",
   "title_sidebar": "Contents",
   "toc_cell": false,
   "toc_position": {},
   "toc_section_display": true,
   "toc_window_display": false
  }
 },
 "nbformat": 4,
 "nbformat_minor": 4
}
